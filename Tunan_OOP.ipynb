{
  "nbformat": 4,
  "nbformat_minor": 0,
  "metadata": {
    "colab": {
      "provenance": []
    },
    "kernelspec": {
      "name": "python3",
      "display_name": "Python 3"
    },
    "language_info": {
      "name": "python"
    }
  },
  "cells": [
    {
      "cell_type": "code",
      "execution_count": null,
      "metadata": {
        "colab": {
          "base_uri": "https://localhost:8080/"
        },
        "id": "C9ojbnn7anxh",
        "outputId": "677fc3f6-2ba7-4ad8-9afb-e5f009c30f36"
      },
      "outputs": [
        {
          "output_type": "stream",
          "name": "stdout",
          "text": [
            "Subtraction of the numbers is: 5.\n",
            "Summation of the numbers is: 15.\n",
            "Multiplication of the numbers is: 50.\n",
            "Divition of the numbers is: 2.0.\n"
          ]
        }
      ],
      "source": [
        "#Method_Overloading\n",
        "class mycalc():\n",
        "  def subtraction(self, *args):\n",
        "    ans=0\n",
        "    for i in args:\n",
        "      ans=i-ans\n",
        "    print(f\"Subtraction of the numbers is: {-ans}.\")\n",
        "  def summation(self, *args):\n",
        "    ans=0\n",
        "    for i in args:\n",
        "      ans=ans+i\n",
        "    print(f\"Summation of the numbers is: {ans}.\")\n",
        "  def divition(self, *args):\n",
        "    ans=1\n",
        "    for i in args:\n",
        "      ans=i/ans\n",
        "    print(f\"Divition of the numbers is: {1/ans}.\")\n",
        "  def multiplication(self, *args):\n",
        "    ans=1\n",
        "    for i in args:\n",
        "      ans=ans*i\n",
        "    print(f\"Multiplication of the numbers is: {ans}.\")\n",
        "\n",
        "c1=mycalc()\n",
        "c1.subtraction(10,5)\n",
        "c1.summation(10,5)\n",
        "c1.multiplication(10,5)\n",
        "c1.divition(10,5)"
      ]
    },
    {
      "cell_type": "code",
      "source": [
        "#Constructor_Overloading\n",
        "class Student():\n",
        "  def __init__(self,*info):\n",
        "    if len(info)==5:\n",
        "        self.name=info[0]\n",
        "        self.id=info[1]\n",
        "        self.dept=info[2]\n",
        "        self.uni=info[3]\n",
        "        self.cgpa=info[4]\n",
        "        print(f\"Name: {self.name}\\nID: {self.id}\\nDepartment: {self.dept}\\nUniversity: {self.uni}\\nCGPA: {self.cgpa}\\n\\n\")\n",
        "    elif len(info)==4:\n",
        "        self.name=info[0]\n",
        "        self.id=info[1]\n",
        "        self.dept=info[2]\n",
        "        self.uni=info[3]\n",
        "        print(f\"Name: {self.name}\\nID: {self.id}\\nDepartment: {self.dept}\\nUniversity: {self.uni}\\n\\n\")\n",
        "    elif len(info)==3:\n",
        "        self.name=info[0]\n",
        "        self.id=info[1]\n",
        "        self.dept=info[2]\n",
        "        print(f\"Name: {self.name}\\nID: {self.id}\\nDepartment: {self.dept}\\n\\n\")\n",
        "    elif len(info)==2:\n",
        "        self.name=info[0]\n",
        "        self.id=info[1]\n",
        "        print(f\"Name: {self.name}\\nID: {self.id}\\n\\n\")\n",
        "    elif len(info)==1:\n",
        "        self.name=info[0]\n",
        "        print(f\"Name: {self.name}\\n\\n\")\n",
        "\n",
        "s1=Student(\"Tunan\", \"22299539\", \"CSE\", \"BRACU\", \"3.99\")\n",
        "s2=Student(\"Tunan\", \"21321064\", \"EEE\", \"AIUB\")\n",
        "s3=Student(\"Tunan\", \"23456789\", \"ARC\")\n",
        "s4=Student(\"Tunan\", \"00000000\")\n",
        "s5=Student(\"Tunan\")"
      ],
      "metadata": {
        "colab": {
          "base_uri": "https://localhost:8080/"
        },
        "id": "jCyKQ9j9jBgR",
        "outputId": "004201a5-4408-460e-f535-0c2fe37969f9"
      },
      "execution_count": null,
      "outputs": [
        {
          "output_type": "stream",
          "name": "stdout",
          "text": [
            "Name: Tunan\n",
            "ID: 22299539\n",
            "Department: CSE\n",
            "University: BRACU\n",
            "CGPA: 3.99\n",
            "\n",
            "\n",
            "Name: Tunan\n",
            "ID: 21321064\n",
            "Department: EEE\n",
            "University: AIUB\n",
            "\n",
            "\n",
            "Name: Tunan\n",
            "ID: 23456789\n",
            "Department: ARC\n",
            "\n",
            "\n",
            "Name: Tunan\n",
            "ID: 00000000\n",
            "\n",
            "\n",
            "Name: Tunan\n",
            "\n",
            "\n"
          ]
        }
      ]
    },
    {
      "cell_type": "code",
      "source": [
        "#Operator_Overloading\n",
        "class House():\n",
        "  def __init__(self, bedroom, livingroom, washroom, diningroom, kitchen, balcony):\n",
        "    self.bedroom=bedroom\n",
        "    self.livingroom=livingroom\n",
        "    self.washroom=washroom\n",
        "    self.diningroom=diningroom\n",
        "    self.kitchen=kitchen\n",
        "    self.balcony=balcony\n",
        "  def showdetail(self):\n",
        "    print(f\"Bedrooms:{self.bedroom}\\nLivingrooms:{self.livingroom}\\nWashrooms:{self.washroom}\\nDiningrooms:{self.diningroom}\\nKitchen:{self.kitchen}\\nBalcony:{self.balcony}\")\n",
        "  def __add__(self, other):\n",
        "    new_bedroom=self.bedroom+other.bedroom\n",
        "    new_livingroom=self.livingroom+other.livingroom\n",
        "    new_washroom=self.washroom+other.washroom\n",
        "    new_diningroom=self.diningroom+other.diningroom\n",
        "    new_kitchen=self.kitchen+other.kitchen\n",
        "    new_balcony=self.balcony+other.balcony\n",
        "    obj=House(new_bedroom,new_livingroom,new_washroom,new_diningroom,new_kitchen,new_balcony)\n",
        "    return obj\n",
        "h1=House(4,1,5,2,1,6)\n",
        "h2=House(2,1,2,1,1,1)\n",
        "h3=h1+h2\n",
        "h3.showdetail()\n",
        ""
      ],
      "metadata": {
        "colab": {
          "base_uri": "https://localhost:8080/"
        },
        "id": "g0srbBNWnC7I",
        "outputId": "5cc8fa4d-dda2-4597-91c2-a7d50beb61fd"
      },
      "execution_count": null,
      "outputs": [
        {
          "output_type": "stream",
          "name": "stdout",
          "text": [
            "Bedrooms:6\n",
            "Livingrooms:2\n",
            "Washrooms:7\n",
            "Diningrooms:3\n",
            "Kitchen:2\n",
            "Balcony:7\n"
          ]
        }
      ]
    },
    {
      "cell_type": "code",
      "source": [
        "#Encapsulation\n",
        "class Student():\n",
        "  def __init__(self, name, id):\n",
        "    self.name=name\n",
        "    self.id=id\n",
        "  def details(self):\n",
        "    print(f\"Name:{self.name}\\nID:{self.id}\\n\")\n",
        "    self.__method()\n",
        "  def set_ID(self,id):\n",
        "    if (id>0 and id<100):\n",
        "      self.__id=id\n",
        "    else:\n",
        "      print(f\"INVALID ID!!!\")\n",
        "  def get_ID(self):\n",
        "    return self.__id\n",
        "  def __method(self):\n",
        "    print(\"inside Private Method\\n\")\n",
        "\n",
        "s1=Student(\"Bob\", 11)\n",
        "s2=Student(\"Carol\", 22)\n",
        "s2.set_ID(33)\n",
        "print(s2.get_ID())\n",
        "s1.details()\n",
        "s2.details()"
      ],
      "metadata": {
        "colab": {
          "base_uri": "https://localhost:8080/"
        },
        "id": "VawDZ-n_HPDw",
        "outputId": "0bab1b24-9a68-4122-e33a-2b7da483d1be"
      },
      "execution_count": null,
      "outputs": [
        {
          "output_type": "stream",
          "name": "stdout",
          "text": [
            "33\n",
            "Name:Bob\n",
            "ID:11\n",
            "\n",
            "Private Method\n",
            "\n",
            "Name:Carol\n",
            "ID:22\n",
            "\n",
            "Private Method\n",
            "\n"
          ]
        }
      ]
    },
    {
      "cell_type": "code",
      "source": [
        "#ClassVariable/StaticVariable\n",
        "class Player():\n",
        "  team_run=0\n",
        "  def __init__(self,run):\n",
        "    self.run=run\n",
        "\n",
        "  def hit_four(self):\n",
        "    self.run+=4\n",
        "    Player.team_run+=4\n",
        "  def hit_six(self):\n",
        "    self.run+=6\n",
        "    Player.team_run+=6\n",
        "\n",
        "p1=Player(0)\n",
        "p2=Player(0)\n",
        "print(f\"Player one:{p1.run}\")\n",
        "print(f\"Player two:{p2.run}\")\n",
        "p1.hit_six()\n",
        "p2.hit_four()\n",
        "print(f\"Player one (Total):{p1.run}\")\n",
        "print(f\"Player two (Total):{p2.run}\")\n",
        "print(f\"Total run of the team:{Player.team_run}\")"
      ],
      "metadata": {
        "colab": {
          "base_uri": "https://localhost:8080/"
        },
        "id": "avjm_CHDLfxO",
        "outputId": "127bada8-2c64-4743-d4db-fd30356d9d89"
      },
      "execution_count": null,
      "outputs": [
        {
          "output_type": "stream",
          "name": "stdout",
          "text": [
            "Player one:0\n",
            "Player two:0\n",
            "Player one (Total):6\n",
            "Player two (Total):4\n",
            "Total run of the team:10\n"
          ]
        }
      ]
    },
    {
      "cell_type": "code",
      "source": [
        "#Class&Static_Method\n",
        "class Student():\n",
        "   uni=\"BRACU\"\n",
        "   def __init__(self, name, id):\n",
        "     self.name=name\n",
        "     self.id=id\n",
        "   def details(self):\n",
        "     print(f\"Name:{self.name}\\nID:{self.id}\\nUniversity:{self.uni}\")\n",
        "   @classmethod\n",
        "   def newuniname(cls,uniname):\n",
        "     cls.uni=uniname\n",
        "   @classmethod\n",
        "   def from_string(cls,info):\n",
        "     name,id=info.split(\"_\")\n",
        "     obj=cls(name,id)#constructorOverloading\n",
        "     return obj\n",
        "\n",
        "   @staticmethod\n",
        "   def check_department(id):\n",
        "     if id[3:5]==\"01\":\n",
        "       print(\"Department:CSE\")\n",
        "     elif id[3:5]==\"41\":\n",
        "       print(\"Department:CS\")\n",
        "s1=Student(\"Bob\", 21301064)\n",
        "s2=Student.from_string(\"Carol_22241539\")\n",
        "s1.details()\n",
        "s2.details()\n",
        "s2.newuniname(\"NSU\")\n",
        "s2.details()\n",
        "Student.check_department(\"21301064\")\n",
        "Student.check_department(\"22241539\")"
      ],
      "metadata": {
        "colab": {
          "base_uri": "https://localhost:8080/"
        },
        "id": "EWBS5kcPqP_c",
        "outputId": "17860005-3266-4ba5-a74e-e06bbd7c4a30"
      },
      "execution_count": null,
      "outputs": [
        {
          "output_type": "stream",
          "name": "stdout",
          "text": [
            "Name:Bob\n",
            "ID:21301064\n",
            "University:BRACU\n",
            "Name:Carol\n",
            "ID:22241539\n",
            "University:BRACU\n",
            "Name:Carol\n",
            "ID:22241539\n",
            "University:NSU\n",
            "Department:CSE\n",
            "Department:CS\n"
          ]
        }
      ]
    },
    {
      "cell_type": "code",
      "source": [
        "#Inheritance\n",
        "class Animal:\n",
        "  def __init__(self,name):\n",
        "    self.name=name\n",
        "  def eat(self):\n",
        "    print(f\"{self.name} is eating!\")\n",
        "class Dog(Animal):\n",
        "  def bark(self):\n",
        "    print(f\"{self.name} is barking!\")\n",
        "\n",
        "a1=Animal(\"Jack\")\n",
        "d1=Dog(\"Rover\")\n",
        "d1.bark()\n",
        "d1.eat()\n",
        "# a1.bark()\n",
        "print(isinstance(a1,Animal))"
      ],
      "metadata": {
        "colab": {
          "base_uri": "https://localhost:8080/"
        },
        "id": "VdL1QY7ux51a",
        "outputId": "2efa5007-9937-40b2-d772-38c78eb77f6e"
      },
      "execution_count": null,
      "outputs": [
        {
          "output_type": "stream",
          "name": "stdout",
          "text": [
            "Rover is barking!\n",
            "Rover is eating!\n",
            "True\n"
          ]
        }
      ]
    },
    {
      "cell_type": "code",
      "source": [
        "#Hierarchical_Inheritance\n",
        "class Student:\n",
        "  def __init__(self,name,id):\n",
        "    self.name=name\n",
        "    self.id=id\n",
        "  def details(self):\n",
        "    print(f\"Name:{self.name}\\nID:{self.id}\")\n",
        "class CSEstudent(Student):\n",
        "  def __init__(self,name,id,labs):\n",
        "    super().__init__(name,id)\n",
        "    self.no_of_labs=labs\n",
        "    self.cry()\n",
        "  def cry(self):\n",
        "    print(f\"CSE student {self.name} is crying because {self.no_of_labs}. labs\")\n",
        "class BBAstudent(Student):\n",
        "  def __init__(self,name,id,presentations):\n",
        "    super().__init__(name,id)\n",
        "    self.no_of_presentations=presentations\n",
        "    self.party()\n",
        "  def party(self):\n",
        "    print(f\"After {self.no_of_presentations} presentations, all day party for {self.name}\")\n",
        "class EEEstudent(Student):\n",
        "  def pera(self):\n",
        "    print(f\"This EEE student {self.name} is dead!\")\n",
        "\n",
        "s1=CSEstudent(\"Bob\", 11, 4)\n",
        "s2=BBAstudent(\"Carol\", 22, 5)\n",
        "s3=EEEstudent(\"Mike\", 33)\n",
        "s1.details()\n",
        "s2.details()\n",
        "s3.details()\n",
        "s3.pera()\n",
        "print(help(s1))"
      ],
      "metadata": {
        "colab": {
          "base_uri": "https://localhost:8080/"
        },
        "id": "Wq16GUhqzpEF",
        "outputId": "88c8fab8-eb06-4e9e-8e12-d6865c524374"
      },
      "execution_count": null,
      "outputs": [
        {
          "output_type": "stream",
          "name": "stdout",
          "text": [
            "CSE student Bob is crying because 4. labs\n",
            "After 5 presentations, all day party for Carol\n",
            "Name:Bob\n",
            "ID:11\n",
            "Name:Carol\n",
            "ID:22\n",
            "Name:Mike\n",
            "ID:33\n",
            "This EEE student Mike is dead!\n",
            "Help on CSEstudent in module __main__ object:\n",
            "\n",
            "class CSEstudent(Student)\n",
            " |  CSEstudent(name, id, labs)\n",
            " |  \n",
            " |  Method resolution order:\n",
            " |      CSEstudent\n",
            " |      Student\n",
            " |      builtins.object\n",
            " |  \n",
            " |  Methods defined here:\n",
            " |  \n",
            " |  __init__(self, name, id, labs)\n",
            " |      Initialize self.  See help(type(self)) for accurate signature.\n",
            " |  \n",
            " |  cry(self)\n",
            " |  \n",
            " |  ----------------------------------------------------------------------\n",
            " |  Methods inherited from Student:\n",
            " |  \n",
            " |  details(self)\n",
            " |  \n",
            " |  ----------------------------------------------------------------------\n",
            " |  Data descriptors inherited from Student:\n",
            " |  \n",
            " |  __dict__\n",
            " |      dictionary for instance variables (if defined)\n",
            " |  \n",
            " |  __weakref__\n",
            " |      list of weak references to the object (if defined)\n",
            "\n",
            "None\n"
          ]
        }
      ]
    },
    {
      "cell_type": "code",
      "source": [
        "#Multilevel_Inheritance\n",
        "class Student():\n",
        "  def __init__(self,name,id):\n",
        "    self.name=name\n",
        "    self.id=id\n",
        "  def details(self):\n",
        "    print(f\"Name:{self.name}\\nID:{self.id}\")\n",
        "class CSEstudent(Student):\n",
        "  def __init__(self,name,id,labs):\n",
        "    super().__init__(name,id)\n",
        "    self.no_of_labs=labs\n",
        "    self.cry()\n",
        "  def cry(self):\n",
        "    print(f\"CSE student {self.name} is crying because {self.no_of_labs}. labs\")\n",
        "class CSEfresher(CSEstudent):\n",
        "  def enroll_CSE110(self):\n",
        "    print(f\"{self.name} enrolled on CSE110\")\n",
        "\n",
        "s1=CSEstudent(\"Bob\", 11, 3)\n",
        "s2=CSEfresher(\"Carol\", 55, 2)\n",
        "s2.details()\n",
        "s1.details()\n",
        "s2.enroll_CSE110()"
      ],
      "metadata": {
        "colab": {
          "base_uri": "https://localhost:8080/"
        },
        "id": "h7QIIVWE3fe1",
        "outputId": "e1dbcd75-5c69-403f-cff7-e277b84273f0"
      },
      "execution_count": null,
      "outputs": [
        {
          "output_type": "stream",
          "name": "stdout",
          "text": [
            "CSE student Bob is crying because 3. labs\n",
            "CSE student Carol is crying because 2. labs\n",
            "Name:Carol\n",
            "ID:55\n",
            "Name:Bob\n",
            "ID:11\n",
            "Carol enrolled on CSE110\n"
          ]
        }
      ]
    },
    {
      "cell_type": "code",
      "source": [
        "#Multiple_Inheritance\n",
        "class A():\n",
        "  def __init__(self):\n",
        "    print(\"__init__ of A\")\n",
        "  def methodOfA(self):\n",
        "    print(\"Method of A\")\n",
        "class B():\n",
        "  def __init__(self):\n",
        "    print(\"__init__ of B\")\n",
        "  def methodOfB(self):\n",
        "    print(\"Method of B\")\n",
        "class c(A,B):\n",
        "  def __init__(self):\n",
        "    super().__init__()\n",
        "    B.__init__(self)\n",
        "    print(\"__init__ of C\")\n",
        "c1=c()\n",
        "c1.methodOfA()\n",
        "c1.methodOfB()\n",
        "# B.methodOfA(c1)"
      ],
      "metadata": {
        "colab": {
          "base_uri": "https://localhost:8080/"
        },
        "id": "LoDZ1Tmj6paJ",
        "outputId": "005524ab-383c-4b34-cc9b-989203400b4f"
      },
      "execution_count": null,
      "outputs": [
        {
          "output_type": "stream",
          "name": "stdout",
          "text": [
            "__init__ of A\n",
            "__init__ of B\n",
            "__init__ of C\n",
            "Method of A\n",
            "Method of B\n"
          ]
        }
      ]
    },
    {
      "cell_type": "code",
      "source": [
        "#Variable_Overriding\n",
        "class Animal():\n",
        "  def __init__(self,name):\n",
        "    self.name=name\n",
        "    self.color=\"White\"\n",
        "  def eat(self):\n",
        "    print(f\"{self.color} {self.name} is eating.\")\n",
        "class Dog(Animal):\n",
        "  def __init__(self, name, color):\n",
        "    super().__init__(name)\n",
        "    self.color=color\n",
        "  def bark(self):\n",
        "    print(f\"{self.color} {self.name} is barking.\")\n",
        "\n",
        "d1=Dog(\"Rover\", \"Brown\")\n",
        "d1.bark()\n",
        "d1.eat()"
      ],
      "metadata": {
        "colab": {
          "base_uri": "https://localhost:8080/"
        },
        "id": "tjyDD0mW8xzg",
        "outputId": "9323a1d1-8a27-4247-ad97-fecb16da8fda"
      },
      "execution_count": null,
      "outputs": [
        {
          "output_type": "stream",
          "name": "stdout",
          "text": [
            "Brown Rover is barking.\n",
            "Brown Rover is eating.\n"
          ]
        }
      ]
    },
    {
      "cell_type": "code",
      "source": [
        "#Method_Overrinding\n",
        "class A:\n",
        "  def __init__(self):\n",
        "    print(\"__init__ of A\")\n",
        "  def method1a(self):\n",
        "    print(f\"Earn money work hard!\")\n",
        "  def method2a(self):\n",
        "    print(\"More Shopping!\")\n",
        "class B(A):\n",
        "  def __init__(self):\n",
        "    print(f\"__init__ of B\")\n",
        "  def method1b(self):\n",
        "    super().method1a()\n",
        "    print(\"Always travell!\")\n",
        "\n",
        "b1=B()\n",
        "b2=A()\n",
        "b1.method1b()\n",
        "b2.method1a()\n",
        "b1.method2a()"
      ],
      "metadata": {
        "colab": {
          "base_uri": "https://localhost:8080/"
        },
        "id": "wKl7UAIB99XX",
        "outputId": "51d60d24-eb49-4bed-87a9-8cd3737afd4a"
      },
      "execution_count": null,
      "outputs": [
        {
          "output_type": "stream",
          "name": "stdout",
          "text": [
            "__init__ of B\n",
            "__init__ of A\n",
            "Earn money work hard!\n",
            "Always travell!\n",
            "Earn money work hard!\n",
            "More Shopping!\n"
          ]
        }
      ]
    }
  ]
}